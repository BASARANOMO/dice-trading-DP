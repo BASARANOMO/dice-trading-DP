{
 "cells": [
  {
   "cell_type": "markdown",
   "metadata": {},
   "source": [
    "@ Author: ZHANG Mofan\n",
    "\n",
    "@ Tsinghua University & Ecole Centrale de Lyon & Ecole des ponts ParisTech\n",
    "\n",
    "@ Date: 07/05/2020\n",
    "\n",
    "Dice Trading"
   ]
  },
  {
   "cell_type": "raw",
   "metadata": {},
   "source": [
    "1.(a)\n",
    "\n",
    "State: x(t) = number of points at turn t\n",
    "\n",
    "Control: u(t) = {0, -5} with 0 for not buying and -5 for buying one new dice\n",
    "\n",
    "Dynamics: x(t+1) = x(t) + u(t) + ksi(t+1), ksi(t+1) is the maximum of all dices\n",
    "\n",
    "Objective: max x(T)"
   ]
  },
  {
   "cell_type": "raw",
   "metadata": {},
   "source": [
    "1.(b)\n",
    "\n",
    "One heuristic strategy taking as argument the time-step (turn) t and the current state x:\n",
    "\n",
    "if t<5 and x(t)>=6:\n",
    "\n",
    "    buy a new dice"
   ]
  },
  {
   "cell_type": "code",
   "execution_count": 29,
   "metadata": {},
   "outputs": [],
   "source": [
    "#1.(b) Code\n",
    "import numpy as np\n",
    "import random\n",
    "import math\n",
    "\n",
    "def heuristicStrategy(t, x):\n",
    "    if t<5 and x>=6:\n",
    "        return True\n",
    "#True=buy a new dice"
   ]
  },
  {
   "cell_type": "code",
   "execution_count": 30,
   "metadata": {},
   "outputs": [],
   "source": [
    "#1.(c)\n",
    "# Simulator Monte-Carlo\n",
    "def Simulator(pi):\n",
    "    nbMC = 1000\n",
    "    C = [] # Cost. Here is the gain (total points at turn 10)\n",
    "    for i in range(nbMC):\n",
    "        x = [0]*11\n",
    "        ksi = [0]\n",
    "        nbDices = 1\n",
    "        for t in range(1, 11):\n",
    "            ksi.append(max(random.randint(1,6) for k in range(nbDices)))\n",
    "            if pi(t, x[t]) and (nbDices<3):\n",
    "                nbDices+=1\n",
    "                x[t] = x[t-1]-5+ksi[t]\n",
    "            else:\n",
    "                x[t] = x[t-1]+ksi[t]\n",
    "        C.append(x[-1])\n",
    "    \n",
    "    #C_mean = np.mean(C)\n",
    "    #C_SD = np.std(C, ddof = 1)\n",
    "    return C, nbMC"
   ]
  },
  {
   "cell_type": "code",
   "execution_count": 31,
   "metadata": {},
   "outputs": [],
   "source": [
    "#1.(c)bis\n",
    "C,nbMC=Simulator(heuristicStrategy)\n",
    "C_mean = np.mean(C)\n",
    "C_SD = np.std(C, ddof = 1)\n",
    "#95% confidence interval\n",
    "lowerBound = C_mean-1.96*C_SD/math.sqrt(nbMC)\n",
    "upperBound = C_mean+1.96*C_SD/math.sqrt(nbMC)"
   ]
  },
  {
   "cell_type": "code",
   "execution_count": 32,
   "metadata": {},
   "outputs": [
    {
     "name": "stdout",
     "output_type": "stream",
     "text": [
      "95% confidence interval:\n",
      "[34.465168038535936, 35.11283196146407]\n"
     ]
    }
   ],
   "source": [
    "#1.(c)ter\n",
    "print(\"95% confidence interval:\")\n",
    "print(\"[\"+str(lowerBound)+\", \"+str(upperBound)+\"]\")"
   ]
  },
  {
   "cell_type": "raw",
   "metadata": {},
   "source": [
    "1.(d) Law of the maximum of 1,2 or 3 dices\n",
    "\n",
    "max.\\nb dices       1      2        3\n",
    "\n",
    "1                   1/6    1/36     1/216\n",
    "\n",
    "2                   1/6    3/36     7/216\n",
    "\n",
    "3                   1/6    5/36     19/216\n",
    "\n",
    "4                   1/6    7/36     37/216\n",
    "\n",
    "5                   1/6    9/36     61/216\n",
    "\n",
    "6                   1/6    11/36    91/216\n",
    "\n",
    "The probability of dice roll maximum being k is: P(k)=(np.power(k,n)-np.power((k-1),n))/pow(6,n),\n",
    "with n=number of dices, k=[1,2,3,4,5,6]\n",
    "\n",
    "Expectation of maximum: En=6-1/pow(6,n)*sum(np.power(k,n)), n=nb dices, k=[1,2,3,4,5]\n",
    "So, we have:\n",
    "Expactation of maximum of 1 dice, E1=3.5\n",
    "Expactation of maximum of 2 dices, E2=161/36=4.472\n",
    "Expactation of maximum of 3 dices, E3=119/24=4.958"
   ]
  },
  {
   "cell_type": "code",
   "execution_count": 33,
   "metadata": {},
   "outputs": [],
   "source": [
    "#1.(d)bis\n",
    "def lawDice(nbDices):\n",
    "    k=np.array([1,2,3,4,5,6])\n",
    "    P=(np.power(k,nbDices)-np.power(k-1,nbDices))/pow(6,nbDices)\n",
    "    return P"
   ]
  },
  {
   "cell_type": "code",
   "execution_count": 34,
   "metadata": {},
   "outputs": [],
   "source": [
    "#1.(e)\n",
    "def diceTradingDP():\n",
    "    nbDices=3\n",
    "    totalP=61\n",
    "    T=10\n",
    "    V=np.zeros([nbDices,totalP,T+1]) # [nbDices, points, turns]\n",
    "    strategyMap=np.zeros([nbDices,totalP,T+1]) # whether or not buying one more dice?\n",
    "    \n",
    "    P=[lawDice(1),lawDice(2),lawDice(3)] # law of the maximum of respectively 1, 2 and 3 dices\n",
    "    \n",
    "    for i in range(nbDices):\n",
    "        for x in range(totalP):\n",
    "            V[i,x,T]=x # the value at turn==10 is the points we have\n",
    "    for t in range(T-1,0,-1):\n",
    "        for x in range(6,totalP-6*(T-t)):\n",
    "            # if we have already 3 dices            \n",
    "            V[2,x,t]=sum(P[2]*V[2,x+1:x+7,t+1])\n",
    "            \n",
    "            # if we have now 2 dices (after dice roll of this turn)\n",
    "            # temp1: value if buy one more dice\n",
    "            # temp2: value if not buy one more dice\n",
    "            temp1=sum(P[2]*V[2,x-4:x+2,t+1])\n",
    "            temp2=sum(P[1]*V[1,x+1:x+7,t+1])\n",
    "            if temp1>=temp2 and x>=6:\n",
    "                V[1,x,t]=temp1\n",
    "                strategyMap[1,x,t]=-5\n",
    "            else:\n",
    "                V[1,x,t]=temp2\n",
    "                strategyMap[1,x,t]=0\n",
    "                \n",
    "            # if we have only 1 dice (after dice roll of this turn)\n",
    "            # temp3: value if buy one mor edice\n",
    "            # temp4: value if not buy one more dice\n",
    "            temp3=sum(P[1]*V[1,x-4:x+2,t+1])\n",
    "            temp4=sum(P[0]*V[0,x+1:x+7,t+1])\n",
    "            if temp3>=temp4 and x>=6:\n",
    "                V[0,x,t]=temp3\n",
    "                strategyMap[0,x,t]=-5\n",
    "            else:\n",
    "                V[0,x,t]=temp4\n",
    "                strategyMap[0,x,t]=0\n",
    "                \n",
    "        # when points<6, we can not buy one more dice\n",
    "        for x in range(0,6):\n",
    "            V[2,x,t]=sum(P[2]*V[2,x+1:x+7,t+1])\n",
    "            V[1,x,t]=sum(P[1]*V[1,x+1:x+7,t+1])\n",
    "            V[0,x,t]=sum(P[0]*V[0,x+1:x+7,t+1])\n",
    "    \n",
    "    # turn 0: we have 1 dice and 0 point\n",
    "    V[0,0,0]=sum(P[0]*V[0,1:7,1])\n",
    "    return V, strategyMap"
   ]
  },
  {
   "cell_type": "code",
   "execution_count": 35,
   "metadata": {},
   "outputs": [
    {
     "name": "stdout",
     "output_type": "stream",
     "text": [
      "Question 1.(e) Finding the optimal value V0 and trategy pi*\n",
      "V0:\n",
      "37.62152777777778\n"
     ]
    }
   ],
   "source": [
    "#1.(e)bis\n",
    "VMap,strategyMap=diceTradingDP()\n",
    "print(\"Question 1.(e) Finding the optimal value V0 and trategy pi*\")\n",
    "print(\"V0:\")\n",
    "print(VMap[0,0,0])\n",
    "#print(strategyMap[0])"
   ]
  },
  {
   "cell_type": "code",
   "execution_count": 36,
   "metadata": {},
   "outputs": [],
   "source": [
    "#1.(f)\n",
    "def SimulatorDP(pi):\n",
    "    nbMC = 1000\n",
    "    C = [] # Cost. Here is the gain (total points at turn 10)\n",
    "    VMap, strategyMap=pi()\n",
    "    for i in range(nbMC):\n",
    "        x = [0]*11\n",
    "        ksi = []\n",
    "        nbDices = 1\n",
    "        for t in range(1, 11):\n",
    "            ksi.append(max(random.randint(1,6) for k in range(nbDices)))\n",
    "            if strategyMap[nbDices-1,x[t-1]+ksi[t-1],t]==-5 and (nbDices<3) and (x[t-1]+ksi[t-1]>=6):\n",
    "                nbDices+=1\n",
    "                x[t] = x[t-1]-5+ksi[t-1]\n",
    "            else:\n",
    "                x[t] = x[t-1]+ksi[t-1]\n",
    "        C.append(x[-1])\n",
    "    \n",
    "    #C_mean = np.mean(C)\n",
    "    #C_SD = np.std(C, ddof = 1)\n",
    "    return C, nbMC"
   ]
  },
  {
   "cell_type": "code",
   "execution_count": 48,
   "metadata": {},
   "outputs": [
    {
     "name": "stdout",
     "output_type": "stream",
     "text": [
      "V0 mean:\n",
      "37.586\n",
      "95% confidence interval:\n",
      "[37.279970097821426, 37.89202990217857]\n"
     ]
    }
   ],
   "source": [
    "#1.(f)bis\n",
    "C,nbMC=SimulatorDP(diceTradingDP)\n",
    "C_mean = np.mean(C)\n",
    "print(\"V0 mean:\")\n",
    "print(C_mean)\n",
    "C_SD = np.std(C, ddof = 1)\n",
    "#95% confidence interval\n",
    "lowerBound = C_mean-1.96*C_SD/math.sqrt(nbMC)\n",
    "upperBound = C_mean+1.96*C_SD/math.sqrt(nbMC)\n",
    "print(\"95% confidence interval:\")\n",
    "print(\"[\"+str(lowerBound)+\", \"+str(upperBound)+\"]\")"
   ]
  },
  {
   "cell_type": "raw",
   "metadata": {},
   "source": [
    "1.(g)\n",
    "We have already calculated the expectation of maximum with 1, 2 and 3 dices:\n",
    "E1=3.5\n",
    "E2=161/36=4.472\n",
    "E3=119/24=4.958\n",
    "\n",
    "So we know, the payback period to cover the cost of buying one new dice (here is 5 points) is respectively 6 turns and 11 turns in the case of having 1 and 2 dices already\n",
    "\n",
    "Then, after turn 4 it is never interesting to buy one more dice when the total turns number T=10.\n",
    "\n",
    "More generally, it is not interesting to buy one more dice after turn (T-4) if we have already 1 dice, and it is not interesting to buy a second dice after turn (T-11) if we have 2 dices."
   ]
  },
  {
   "cell_type": "raw",
   "metadata": {},
   "source": [
    "1.(h)\n",
    "Even if we do not restrict the maximum number of dices that one can have, the optimal strategy will not change. \n",
    "\n",
    "As discussed in 1.(g), the payback period to cover the cost of buying one new dice in the case of having already 2 dices is 11 turns which is even longer than the total game rounds (T=10). In all cases, we will never buy more than 1 dice (with our optimal strategy)."
   ]
  },
  {
   "cell_type": "code",
   "execution_count": 38,
   "metadata": {},
   "outputs": [],
   "source": [
    "#2.(a)\n",
    "# Sometimes we use \"sell\" instead of \"loose\"\n",
    "def diceTradingDP_2a():\n",
    "    nbDices=5\n",
    "    totalP=120\n",
    "    diceRoll=6\n",
    "    T=10\n",
    "    V=np.zeros([nbDices,totalP,diceRoll,T]) # [nbDices, points, turns]\n",
    "    strategyBuyMap=np.zeros([nbDices,totalP,diceRoll,T]) # whether or not buying one more dice?\n",
    "    strategySellMap=np.zeros([nbDices,totalP,diceRoll,T]) # whether or not selling one dice to double the points?\n",
    "    \n",
    "    P=[lawDice(1),lawDice(2),lawDice(3),lawDice(4),lawDice(5)] # law of the maximum of respectively 1, 2, 3, 4 and 5 dices\n",
    "    \n",
    "    # Last turn\n",
    "    # have 1 dice\n",
    "    for x in range(totalP):\n",
    "        for k in range(diceRoll):\n",
    "            V[0,x,k,-1]=x+k+1\n",
    "    # have more than 1 dice, we choose to loose 1 and double the dice roll of last turn\n",
    "    for i in range(1,nbDices):\n",
    "        for x in range(totalP):\n",
    "            for k in range(diceRoll):\n",
    "                V[i,x,k,-1]=x+(k+1)*2\n",
    "                strategySellMap[i,x,k,-1]=1\n",
    "    \n",
    "    for t in range(T-2,-1,-1):\n",
    "        for x in range(totalP-12):\n",
    "            for k in range(diceRoll):\n",
    "                # have only one dice\n",
    "                # if not buy one more dice\n",
    "                temp1=sum(P[0]*V[0,x+k+1,0:6,t+1])\n",
    "                # if buy one more dice\n",
    "                temp2=sum(P[1]*V[1,x+k-4,0:6,t+1])\n",
    "                if temp1>=temp2 or (x+k+1)<6:\n",
    "                    V[0,x,k,t]=temp1\n",
    "                else:\n",
    "                    V[0,x,k,t]=temp2\n",
    "                    strategyBuyMap[0,x,k,t]=-5\n",
    "                \n",
    "                # have 2, 3 or 4 dices\n",
    "                for n in range(1,4):\n",
    "                    # do nothing\n",
    "                    temp3=sum(P[n]*V[n,x+k+1,0:6,t+1])\n",
    "                    # loose one to double the dice roll of this turn\n",
    "                    temp4=sum(P[n-1]*V[n-1,x+(k+1)*2,0:6,t+1])\n",
    "                    # not loose 1, but buy 1\n",
    "                    temp5=sum(P[n+1]*V[n+1,x+k-4,0:6,t+1])\n",
    "                    # loose 1 and then buy 1\n",
    "                    temp6=sum(P[n]*V[n,x+(k+1)*2-5,0:6,t+1])\n",
    "                    if (x+k+1)>=6:\n",
    "                        choice=np.argmax([temp3,temp4,temp5,temp6])\n",
    "                    elif (x+(k+1)*2)>=6:\n",
    "                        choice=np.argmax([temp3,temp4,0,temp6])\n",
    "                    else:\n",
    "                        choice=np.argmax([temp3,temp4,0,0])\n",
    "                    if choice == 0:\n",
    "                        V[n,x,k,t]=temp3\n",
    "                    elif choice == 1:\n",
    "                        V[n,x,k,t]=temp4\n",
    "                        strategySellMap[n,x,k,t]=1\n",
    "                    elif choice == 2:\n",
    "                        V[n,x,k,t]=temp5\n",
    "                        strategyBuyMap[n,x,k,t]=-5\n",
    "                    else:\n",
    "                        V[n,x,k,t]=temp6\n",
    "                        strategySellMap[n,x,k,t]=1\n",
    "                        strategyBuyMap[n,x,k,t]=-5\n",
    "                \n",
    "                \n",
    "                # have 5 dices\n",
    "                # do nothing\n",
    "                temp7=sum(P[4]*V[4,x+k+1,0:6,t+1])\n",
    "                # loose one\n",
    "                temp8=sum(P[3]*V[3,x+(k+1)*2,0:6,t+1])\n",
    "                # loose one and buy one\n",
    "                temp9=sum(P[4]*V[4,x+(k+1)*2-5,0:6,t+1])\n",
    "                if (x+(k+1)*2)>=6:\n",
    "                    choice=np.argmax([temp7,temp8,temp9])\n",
    "                else:\n",
    "                    choice=np.argmax([temp7,temp8,0])\n",
    "                if choice == 0:\n",
    "                    V[4,x,k,t]=temp7\n",
    "                elif choice == 1:\n",
    "                    V[4,x,k,t]=temp8\n",
    "                    strategySellMap[4,x,k,t]=1\n",
    "                elif choice == 2:\n",
    "                    V[4,x,k,t]=temp9\n",
    "                    strategySellMap[4,x,k,t]=1\n",
    "                    strategyBuyMap[4,x,k,t]=-5\n",
    "    \n",
    "    return V, strategySellMap, strategyBuyMap"
   ]
  },
  {
   "cell_type": "code",
   "execution_count": 39,
   "metadata": {
    "scrolled": true
   },
   "outputs": [
    {
     "name": "stdout",
     "output_type": "stream",
     "text": [
      "V0:\n",
      "47.59380284322564\n"
     ]
    }
   ],
   "source": [
    "#2.(a)bis\n",
    "VMap, strategySellMap, strategyBuyMap = diceTradingDP_2a()\n",
    "V0=(VMap[0,0,0,0]+VMap[0,0,1,0]+VMap[0,0,2,0]+VMap[0,0,3,0]+VMap[0,0,4,0]+VMap[0,0,5,0])/6\n",
    "print(\"V0:\")\n",
    "print(V0)"
   ]
  },
  {
   "cell_type": "code",
   "execution_count": 40,
   "metadata": {},
   "outputs": [],
   "source": [
    "#2.(a)ter\n",
    "def SimulatorDP_2a(pi):\n",
    "    nbMC = 10000\n",
    "    C = [] # Cost. Here is the gain (total points at turn 10)\n",
    "    VMap, strategySellMap, strategyBuyMap=pi()\n",
    "    for i in range(nbMC):\n",
    "        x_temp=0\n",
    "        x = [0]\n",
    "        ksi = []\n",
    "        nbDices = 1\n",
    "        \n",
    "        for t in range(10):\n",
    "            ksi.append(max(random.randint(1,6) for k in range(nbDices)))\n",
    "            x_temp=x[-1]+ksi[-1]\n",
    "            choiceSell=strategySellMap[nbDices-1,x[-1],ksi[-1]-1,t]\n",
    "            choiceBuy=strategyBuyMap[nbDices-1,x[-1],ksi[-1]-1,t]\n",
    "            if choiceSell==1:\n",
    "                nbDices-=1\n",
    "                x_temp+=ksi[-1]\n",
    "            if choiceBuy==-5:\n",
    "                nbDices+=1\n",
    "                x_temp-=5\n",
    "            x.append(x_temp)\n",
    "\n",
    "        C.append(x[-1])\n",
    "    \n",
    "    #C_mean = np.mean(C)\n",
    "    #C_SD = np.std(C, ddof = 1)\n",
    "    return C, nbMC"
   ]
  },
  {
   "cell_type": "code",
   "execution_count": 50,
   "metadata": {},
   "outputs": [
    {
     "name": "stdout",
     "output_type": "stream",
     "text": [
      "V0 mean:\n",
      "47.5278\n",
      "95% confidence interval:\n",
      "[47.39711447688293, 47.658485523117065]\n"
     ]
    }
   ],
   "source": [
    "#2.(a)quater\n",
    "C,nbMC=SimulatorDP_2a(diceTradingDP_2a)\n",
    "C_mean = np.mean(C)\n",
    "print(\"V0 mean:\")\n",
    "print(C_mean)\n",
    "C_SD = np.std(C, ddof = 1)\n",
    "#95% confidence interval\n",
    "lowerBound = C_mean-1.96*C_SD/math.sqrt(nbMC)\n",
    "upperBound = C_mean+1.96*C_SD/math.sqrt(nbMC)\n",
    "print(\"95% confidence interval:\")\n",
    "print(\"[\"+str(lowerBound)+\", \"+str(upperBound)+\"]\")"
   ]
  },
  {
   "cell_type": "raw",
   "metadata": {},
   "source": [
    "#2.(a)quinquies\n",
    "The optimal strategy could be roughly described as following (not exhaustive):\n",
    "1. In the last round, if we have more than 1 dice, we choose to release one dice and double the dice roll\n",
    "2. More generally, in the round t, if we have more than (T-t) dices, we can release one dice and double the dice roll.\n",
    "2. If the dice roll==6, it is profitable to release one dice and double the dice roll (when we have more than 1 dice).\n",
    "3. if the number of dices<4, buying one more dice is in general more profitable than not buying one dice. But it depends always on the specific situation that we are in (for example, this rule is true if we are far from the last round, but false if we are in the last round).\n",
    "4. In the (T-1) round, T is the total number of rounds, if we have only 1 dice, we can choose to buy 1 dice and release it in the last round to double the dice roll of the last round. The expactation is higher than the choice of doing nothing."
   ]
  },
  {
   "cell_type": "code",
   "execution_count": 42,
   "metadata": {},
   "outputs": [],
   "source": [
    "#2.(b)\n",
    "# We introduce here one support method to facilitate the question\n",
    "def expectationValue(V,strategySellMap,strategyBuyMap,nbDices,x,k,t):\n",
    "    nbDices+=1\n",
    "    ksi=np.array([1,2,3,4,5,6])\n",
    "    P1=(np.power(ksi,nbDices) - np.power(ksi-1,nbDices))/np.power(6,nbDices)\n",
    "    P2=(np.power(ksi,nbDices-1) - np.power(ksi-1,nbDices-1))/np.power(6,nbDices-1)\n",
    "    P3=(np.power(ksi,nbDices+1) - np.power(ksi-1,nbDices+1))/np.power(6,nbDices+1)\n",
    "    #Do nothing\n",
    "    temp1=(P1[0]*V[nbDices-1,x+k+1,0,t+1]+P1[1]*V[nbDices-1,x+k+1,1,t+1]+P1[2]*V[nbDices-1,x+k+1,2,t+1]+P1[3]*V[nbDices-1,x+k+1,3,t+1]+P1[4]*V[nbDices-1,x+k+1,4,t+1]+P1[5]*V[nbDices-1,x+k+1,5,t+1])\n",
    "    #Sell one dice\n",
    "    temp2=(P2[0]*V[nbDices-2,x+(k+1)*2,0,t+1]+P2[1]*V[nbDices-2,x+(k+1)*2,1,t+1]+P2[2]*V[nbDices-2,x+(k+1)*2,2,t+1]+P2[3]*V[nbDices-2,x+(k+1)*2,3,t+1]+P2[4]*V[nbDices-2,x+(k+1)*2,4,t+1]+P2[5]*V[nbDices-2,x+(k+1)*2,5,t+1])\n",
    "    #Buy one dice\n",
    "    temp3=(P3[0]*V[nbDices,x+k-4,0,t+1]+P3[1]*V[nbDices,x+k-4,1,t+1]+P3[2]*V[nbDices,x+k-4,2,t+1]+P3[3]*V[nbDices,x+k-4,3,t+1]+P3[4]*V[nbDices,x+k-4,4,t+1]+P3[5]*V[nbDices,x+k-4,5,t+1])\n",
    "    #Sell one and then buy one\n",
    "    temp4=(P1[0]*V[nbDices-1,x+(k+1)*2-5,0,t+1]+P1[1]*V[nbDices-1,x+(k+1)*2-5,1,t+1]+P1[2]*V[nbDices-1,x+(k+1)*2-5,2,t+1]+P1[3]*V[nbDices-1,x+(k+1)*2-5,3,t+1]+P1[4]*V[nbDices-1,x+(k+1)*2-5,4,t+1]+P1[5]*V[nbDices-1,x+(k+1)*2-5,5,t+1])\n",
    "    if (x+k+1)>=6:\n",
    "        choice=np.argmax([temp1,temp2,temp3,temp4])\n",
    "    elif (x+(k+1)*2)>=6:\n",
    "        choice=np.argmax([temp1,temp2,0,temp4])\n",
    "    else:\n",
    "        choice=np.argmax([temp1,temp2,0,0])\n",
    "    if choice == 0:\n",
    "        V[nbDices-1,x,k,t]=temp1\n",
    "    elif choice == 1:\n",
    "        V[nbDices-1,x,k,t]=temp2\n",
    "        strategySellMap[nbDices-1,x,k,t]=1\n",
    "    elif choice == 2:\n",
    "        V[nbDices-1,x,k,t]=temp3\n",
    "        strategyBuyMap[nbDices-1,x,k,t]=-5\n",
    "    else:\n",
    "        V[nbDices-1,x,k,t]=temp4\n",
    "        strategySellMap[nbDices-1,x,k,t]=1\n",
    "        strategyBuyMap[nbDices-1,x,k,t]=-5\n",
    "    return V,strategySellMap,strategyBuyMap\n",
    "    \n",
    "    \n",
    "def diceTradingDP_2b():\n",
    "    nbDices=10\n",
    "    totalP=120\n",
    "    diceRoll=6\n",
    "    T=10\n",
    "    V=np.zeros([nbDices,totalP,diceRoll,T]) # [nbDices, points, turns]\n",
    "    strategyBuyMap=np.zeros([nbDices,totalP,diceRoll,T]) # whether or not buying one more dice?\n",
    "    strategySellMap=np.zeros([nbDices,totalP,diceRoll,T]) # whether or not selling one dice to double the points?\n",
    "    \n",
    "    # Last turn\n",
    "    # have 1 dice\n",
    "    for x in range(totalP):\n",
    "        for k in range(diceRoll):\n",
    "            V[0,x,k,-1]=x+k+1\n",
    "    # have more than 1 dice, we choose to loose 1 and double the dice roll of last turn\n",
    "    for i in range(1,nbDices):\n",
    "        for x in range(totalP):\n",
    "            for k in range(diceRoll):\n",
    "                V[i,x,k,-1]=x+(k+1)*2\n",
    "                strategySellMap[i,x,k,-1]=1\n",
    "    \n",
    "    for t in range(T-2,-1,-1):\n",
    "        for x in range(totalP-12):\n",
    "            for k in range(diceRoll):\n",
    "                # have only one dice\n",
    "                # if not buy one more dice\n",
    "                temp1=(V[0,x+k+1,0,t+1]+V[0,x+k+1,1,t+1]+V[0,x+k+1,2,t+1]+V[0,x+k+1,3,t+1]+V[0,x+k+1,4,t+1]+V[0,x+k+1,5,t+1])/6\n",
    "                # if buy one more dice\n",
    "                temp2=(V[1,x+k-4,0,t+1]+3*V[1,x+k-4,1,t+1]+5*V[1,x+k-4,2,t+1]+7*V[1,x+k-4,3,t+1]+9*V[1,x+k-4,4,t+1]+11*V[1,x+k-4,5,t+1])/36\n",
    "                if temp1>=temp2 or (x+k+1)<6:\n",
    "                    V[0,x,k,t]=temp1\n",
    "                else:\n",
    "                    V[0,x,k,t]=temp2\n",
    "                    strategyBuyMap[0,x,k,t]=-5\n",
    "                \n",
    "                for i in range(1,nbDices-1):\n",
    "                    # have more than 1 dice\n",
    "                    V,strategySellMap,strategyBuyMap=expectationValue(V,strategySellMap,strategyBuyMap,i,x,k,t)\n",
    "    \n",
    "    return V, strategySellMap, strategyBuyMap"
   ]
  },
  {
   "cell_type": "code",
   "execution_count": 43,
   "metadata": {},
   "outputs": [
    {
     "name": "stdout",
     "output_type": "stream",
     "text": [
      "Question 2.(b): What happen if we do not restrict the maximum number of dices that can be owned by a player?\n",
      "V0:\n",
      "47.594134977086675\n"
     ]
    }
   ],
   "source": [
    "#2.(b)bis\n",
    "VMap, strategySellMap, strategyBuyMap = diceTradingDP_2b()\n",
    "V0=(VMap[0,0,0,0]+VMap[0,0,1,0]+VMap[0,0,2,0]+VMap[0,0,3,0]+VMap[0,0,4,0]+VMap[0,0,5,0])/6\n",
    "print(\"Question 2.(b): What happen if we do not restrict the maximum number of dices that can be owned by a player?\")\n",
    "print(\"V0:\")\n",
    "print(V0)"
   ]
  },
  {
   "cell_type": "raw",
   "metadata": {},
   "source": [
    "2.(b)ter\n",
    "We compare the V0 with that of the question 2.(a)\n",
    "2.(a): V0=47.59380284322564\n",
    "2.(b): V0=47.594134977086675\n",
    "There is almost no difference (in other words, not much improvement)"
   ]
  },
  {
   "cell_type": "code",
   "execution_count": 44,
   "metadata": {},
   "outputs": [],
   "source": [
    "#2.(c)\n",
    "def diceTradingDP_2c():\n",
    "    nbDices=5\n",
    "    totalP=120\n",
    "    diceRoll=6\n",
    "    T=10\n",
    "    V=np.zeros([nbDices,totalP,diceRoll,T]) # [nbDices, points, turns]\n",
    "    strategyBuyMap=np.zeros([nbDices,totalP,diceRoll,T]) # whether or not buying one more dice?\n",
    "    strategySellMap=np.zeros([nbDices,totalP,diceRoll,T]) # whether or not selling one dice to double the points?\n",
    "    \n",
    "    P=[lawDice(1),lawDice(2),lawDice(3),lawDice(4),lawDice(5)] # law of the maximum of respectively 1, 2, 3, 4 and 5 dices\n",
    "    \n",
    "    sellPrices=[0,2,4,5,8]\n",
    "    \n",
    "    # Last turn\n",
    "    # have 1 dice\n",
    "    for x in range(totalP):\n",
    "        for k in range(diceRoll):\n",
    "            V[0,x,k,-1]=x+k+1\n",
    "    # have 2 or more dices\n",
    "    for x in range(totalP):\n",
    "        for k in range(diceRoll):\n",
    "            for n in range(1,5):\n",
    "                tempLT1=k+1+sellPrices[n]\n",
    "                tempLT2=(k+1)*2+sellPrices[n-1]\n",
    "                if tempLT1>=tempLT2:\n",
    "                    V[n,x,k,-1]=x+tempLT1\n",
    "                else:\n",
    "                    V[n,x,k,-1]=x+tempLT2\n",
    "    \n",
    "    for t in range(T-2,-1,-1):\n",
    "        for x in range(totalP-12):\n",
    "            for k in range(diceRoll):\n",
    "                # have only one dice\n",
    "                # if not buy one more dice\n",
    "                temp1=sum(P[0]*V[0,x+k+1,0:6,t+1])\n",
    "                # if buy one more dice\n",
    "                temp2=sum(P[1]*V[1,x+k-4,0:6,t+1])\n",
    "                if temp1>=temp2 or (x+k+1)<6:\n",
    "                    V[0,x,k,t]=temp1\n",
    "                else:\n",
    "                    V[0,x,k,t]=temp2\n",
    "                    strategyBuyMap[0,x,k,t]=-5\n",
    "                \n",
    "                # have 2, 3 or 4 dices\n",
    "                for n in range(1,4):\n",
    "                    # do nothing\n",
    "                    temp3=sum(P[n]*V[n,x+k+1,0:6,t+1])\n",
    "                    # loose one to double the dice roll of this turn\n",
    "                    temp4=sum(P[n-1]*V[n-1,x+(k+1)*2,0:6,t+1])\n",
    "                    # not loose 1, but buy 1\n",
    "                    temp5=sum(P[n+1]*V[n+1,x+k-4,0:6,t+1])\n",
    "                    # loose 1 and then buy 1\n",
    "                    temp6=sum(P[n]*V[n,x+(k+1)*2-5,0:6,t+1])\n",
    "                    if (x+k+1)>=6:\n",
    "                        choice=np.argmax([temp3,temp4,temp5,temp6])\n",
    "                    elif (x+(k+1)*2)>=6:\n",
    "                        choice=np.argmax([temp3,temp4,0,temp6])\n",
    "                    else:\n",
    "                        choice=np.argmax([temp3,temp4,0,0])\n",
    "                    if choice == 0:\n",
    "                        V[n,x,k,t]=temp3\n",
    "                    elif choice == 1:\n",
    "                        V[n,x,k,t]=temp4\n",
    "                        strategySellMap[n,x,k,t]=1\n",
    "                    elif choice == 2:\n",
    "                        V[n,x,k,t]=temp5\n",
    "                        strategyBuyMap[n,x,k,t]=-5\n",
    "                    else:\n",
    "                        V[n,x,k,t]=temp6\n",
    "                        strategySellMap[n,x,k,t]=1\n",
    "                        strategyBuyMap[n,x,k,t]=-5\n",
    "                \n",
    "                # have 5 dices\n",
    "                # do nothing\n",
    "                temp7=sum(P[4]*V[4,x+k+1,0:6,t+1])\n",
    "                # loose one\n",
    "                temp8=sum(P[3]*V[3,x+(k+1)*2,0:6,t+1])\n",
    "                # loose one and buy one\n",
    "                temp9=sum(P[4]*V[4,x+(k+1)*2-5,0:6,t+1])\n",
    "                if (x+(k+1)*2)>=6:\n",
    "                    choice=np.argmax([temp7,temp8,temp9])\n",
    "                else:\n",
    "                    choice=np.argmax([temp7,temp8,0])\n",
    "                if choice == 0:\n",
    "                    V[4,x,k,t]=temp7\n",
    "                elif choice == 1:\n",
    "                    V[4,x,k,t]=temp8\n",
    "                    strategySellMap[4,x,k,t]=1\n",
    "                elif choice == 2:\n",
    "                    V[4,x,k,t]=temp9\n",
    "                    strategySellMap[4,x,k,t]=1\n",
    "                    strategyBuyMap[4,x,k,t]=-5\n",
    "    \n",
    "    return V, strategySellMap, strategyBuyMap"
   ]
  },
  {
   "cell_type": "code",
   "execution_count": 45,
   "metadata": {},
   "outputs": [
    {
     "name": "stdout",
     "output_type": "stream",
     "text": [
      "Question 2.(c): At the end of the game, the remaining dices are sold to the next player.\n",
      "V0:\n",
      "47.71271284296862\n"
     ]
    }
   ],
   "source": [
    "#2.(c)bis\n",
    "VMap, strategySellMap, strategyBuyMap = diceTradingDP_2c()\n",
    "V0=(VMap[0,0,0,0]+VMap[0,0,1,0]+VMap[0,0,2,0]+VMap[0,0,3,0]+VMap[0,0,4,0]+VMap[0,0,5,0])/6\n",
    "print(\"Question 2.(c): At the end of the game, the remaining dices are sold to the next player.\")\n",
    "print(\"V0:\")\n",
    "print(V0)"
   ]
  },
  {
   "cell_type": "raw",
   "metadata": {},
   "source": [
    "2.(d)\n",
    "K is the selling price of dices at the end of the 10th round of a game (named game A). We imagine another 10 rounds game (named game B) after game A. \n",
    "\n",
    "K should be the expectation of total points of game B (V0 of game B) under conditions:\n",
    "- having number of dices=D to begin with\n",
    "- having x points at the beginning of turn 0, x is the number of points at the end of the 10th round of this game A. The expectation of x is exactly the V0 of game A"
   ]
  },
  {
   "cell_type": "raw",
   "metadata": {},
   "source": [
    "2.(e)\n",
    "Following the question 2.(d), we can use a value K at the end of the 10 turn game to represent a 20 turn game. Actually, this method could be further developed. In the same way, we can find the a value K at the end of the 20 turn game to represent a 30 turn game and so on. \n",
    "\n",
    "Assume that we use K[n] to note down the selling price of dices at the end of 10*n turn game to represent a 10*(n+1) turn game. When n is large, K[n] should converge to a certain value because when beginning points are large enough, the optimal strategy from 10*n to 10*(n+1) turn should definitely be stable or in other words almost stay the same. By using this K[n] we can estimate the value V0 for a 10^10 turn game. Its quasi-optimal strategy is the repetition of the stable optimal strategy of a certain 10 turn game from 10*m to 10*(m+1) turn."
   ]
  },
  {
   "cell_type": "code",
   "execution_count": null,
   "metadata": {},
   "outputs": [],
   "source": []
  }
 ],
 "metadata": {
  "kernelspec": {
   "display_name": "Python 3",
   "language": "python",
   "name": "python3"
  },
  "language_info": {
   "codemirror_mode": {
    "name": "ipython",
    "version": 3
   },
   "file_extension": ".py",
   "mimetype": "text/x-python",
   "name": "python",
   "nbconvert_exporter": "python",
   "pygments_lexer": "ipython3",
   "version": "3.7.5"
  }
 },
 "nbformat": 4,
 "nbformat_minor": 4
}
